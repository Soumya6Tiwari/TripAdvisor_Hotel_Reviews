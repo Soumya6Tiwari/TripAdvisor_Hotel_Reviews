{
 "cells": [
  {
   "cell_type": "markdown",
   "id": "25699426",
   "metadata": {},
   "source": [
    "#                      SENTIMENT ANALYSIS OF TRIP ADVISOR: HOTEL REVIEWS"
   ]
  },
  {
   "cell_type": "markdown",
   "id": "66abbbac",
   "metadata": {},
   "source": [
    "# Importing Libraries"
   ]
  },
  {
   "cell_type": "code",
   "execution_count": 1,
   "id": "54d27144",
   "metadata": {},
   "outputs": [
    {
     "name": "stderr",
     "output_type": "stream",
     "text": [
      "C:\\Users\\DELL\\AppData\\Local\\Temp\\ipykernel_18980\\2849882987.py:1: DeprecationWarning: \n",
      "Pyarrow will become a required dependency of pandas in the next major release of pandas (pandas 3.0),\n",
      "(to allow more performant data types, such as the Arrow string type, and better interoperability with other libraries)\n",
      "but was not found to be installed on your system.\n",
      "If this would cause problems for you,\n",
      "please provide us feedback at https://github.com/pandas-dev/pandas/issues/54466\n",
      "        \n",
      "  import pandas as pd\n"
     ]
    }
   ],
   "source": [
    "import pandas as pd\n",
    "import numpy as np\n",
    "import warnings\n",
    "warnings.filterwarnings(\"ignore\", category=FutureWarning)"
   ]
  },
  {
   "cell_type": "markdown",
   "id": "6009bad5",
   "metadata": {},
   "source": [
    "# Reading The Dataset"
   ]
  },
  {
   "cell_type": "code",
   "execution_count": 2,
   "id": "3685bfd8",
   "metadata": {},
   "outputs": [],
   "source": [
    "# Read the CSV file into a DataFrame\n",
    "df=pd.read_csv(\"tripadvisor_hotel_reviews.csv\",encoding=\"ISO-8859-1\")"
   ]
  },
  {
   "cell_type": "markdown",
   "id": "b820f7a2",
   "metadata": {},
   "source": [
    "# Summary Of The Dataset"
   ]
  },
  {
   "cell_type": "code",
   "execution_count": 3,
   "id": "1814d9ea",
   "metadata": {
    "scrolled": true
   },
   "outputs": [
    {
     "data": {
      "text/html": [
       "<div>\n",
       "<style scoped>\n",
       "    .dataframe tbody tr th:only-of-type {\n",
       "        vertical-align: middle;\n",
       "    }\n",
       "\n",
       "    .dataframe tbody tr th {\n",
       "        vertical-align: top;\n",
       "    }\n",
       "\n",
       "    .dataframe thead th {\n",
       "        text-align: right;\n",
       "    }\n",
       "</style>\n",
       "<table border=\"1\" class=\"dataframe\">\n",
       "  <thead>\n",
       "    <tr style=\"text-align: right;\">\n",
       "      <th></th>\n",
       "      <th>Review</th>\n",
       "      <th>Rating</th>\n",
       "    </tr>\n",
       "  </thead>\n",
       "  <tbody>\n",
       "    <tr>\n",
       "      <th>0</th>\n",
       "      <td>nice hotel expensive parking got good deal sta...</td>\n",
       "      <td>4</td>\n",
       "    </tr>\n",
       "    <tr>\n",
       "      <th>1</th>\n",
       "      <td>ok nothing special charge diamond member hilto...</td>\n",
       "      <td>2</td>\n",
       "    </tr>\n",
       "    <tr>\n",
       "      <th>2</th>\n",
       "      <td>nice rooms not 4* experience hotel monaco seat...</td>\n",
       "      <td>3</td>\n",
       "    </tr>\n",
       "    <tr>\n",
       "      <th>3</th>\n",
       "      <td>unique, great stay, wonderful time hotel monac...</td>\n",
       "      <td>5</td>\n",
       "    </tr>\n",
       "    <tr>\n",
       "      <th>4</th>\n",
       "      <td>great stay great stay, went seahawk game aweso...</td>\n",
       "      <td>5</td>\n",
       "    </tr>\n",
       "    <tr>\n",
       "      <th>...</th>\n",
       "      <td>...</td>\n",
       "      <td>...</td>\n",
       "    </tr>\n",
       "    <tr>\n",
       "      <th>20486</th>\n",
       "      <td>best kept secret 3rd time staying charm, not 5...</td>\n",
       "      <td>5</td>\n",
       "    </tr>\n",
       "    <tr>\n",
       "      <th>20487</th>\n",
       "      <td>great location price view hotel great quick pl...</td>\n",
       "      <td>4</td>\n",
       "    </tr>\n",
       "    <tr>\n",
       "      <th>20488</th>\n",
       "      <td>ok just looks nice modern outside, desk staff ...</td>\n",
       "      <td>2</td>\n",
       "    </tr>\n",
       "    <tr>\n",
       "      <th>20489</th>\n",
       "      <td>hotel theft ruined vacation hotel opened sept ...</td>\n",
       "      <td>1</td>\n",
       "    </tr>\n",
       "    <tr>\n",
       "      <th>20490</th>\n",
       "      <td>people talking, ca n't believe excellent ratin...</td>\n",
       "      <td>2</td>\n",
       "    </tr>\n",
       "  </tbody>\n",
       "</table>\n",
       "<p>20491 rows × 2 columns</p>\n",
       "</div>"
      ],
      "text/plain": [
       "                                                  Review  Rating\n",
       "0      nice hotel expensive parking got good deal sta...       4\n",
       "1      ok nothing special charge diamond member hilto...       2\n",
       "2      nice rooms not 4* experience hotel monaco seat...       3\n",
       "3      unique, great stay, wonderful time hotel monac...       5\n",
       "4      great stay great stay, went seahawk game aweso...       5\n",
       "...                                                  ...     ...\n",
       "20486  best kept secret 3rd time staying charm, not 5...       5\n",
       "20487  great location price view hotel great quick pl...       4\n",
       "20488  ok just looks nice modern outside, desk staff ...       2\n",
       "20489  hotel theft ruined vacation hotel opened sept ...       1\n",
       "20490  people talking, ca n't believe excellent ratin...       2\n",
       "\n",
       "[20491 rows x 2 columns]"
      ]
     },
     "execution_count": 3,
     "metadata": {},
     "output_type": "execute_result"
    }
   ],
   "source": [
    "df"
   ]
  },
  {
   "cell_type": "markdown",
   "id": "c275f83a",
   "metadata": {},
   "source": [
    "# Checking For The Null Values"
   ]
  },
  {
   "cell_type": "code",
   "execution_count": 4,
   "id": "abb1f8dc",
   "metadata": {},
   "outputs": [
    {
     "data": {
      "text/plain": [
       "Review    0\n",
       "Rating    0\n",
       "dtype: int64"
      ]
     },
     "execution_count": 4,
     "metadata": {},
     "output_type": "execute_result"
    }
   ],
   "source": [
    "df.isnull().sum()"
   ]
  },
  {
   "cell_type": "markdown",
   "id": "77e447c7",
   "metadata": {},
   "source": [
    "# Removing The Null Values"
   ]
  },
  {
   "cell_type": "code",
   "execution_count": 5,
   "id": "38c0fcf0",
   "metadata": {},
   "outputs": [],
   "source": [
    "# Drop rows with any missing values\n",
    "df.dropna(how='any',inplace=True)\n",
    "# Now, df contains only rows without missing values\n"
   ]
  },
  {
   "cell_type": "code",
   "execution_count": 6,
   "id": "10597098",
   "metadata": {},
   "outputs": [
    {
     "data": {
      "text/plain": [
       "Rating\n",
       "5    9054\n",
       "4    6039\n",
       "3    2184\n",
       "2    1793\n",
       "1    1421\n",
       "Name: count, dtype: int64"
      ]
     },
     "execution_count": 6,
     "metadata": {},
     "output_type": "execute_result"
    }
   ],
   "source": [
    "# Get the count of unique values in the 'Rating' column of the DataFrame\n",
    "counts = df['Rating'].value_counts()\n",
    "counts"
   ]
  },
  {
   "cell_type": "code",
   "execution_count": 7,
   "id": "3d10ca88",
   "metadata": {},
   "outputs": [
    {
     "name": "stdout",
     "output_type": "stream",
     "text": [
      "Requirement already satisfied: wordcloud in c:\\users\\dell\\appdata\\local\\programs\\python\\python311\\lib\\site-packages (1.9.3)\n",
      "Requirement already satisfied: numpy>=1.6.1 in c:\\users\\dell\\appdata\\local\\programs\\python\\python311\\lib\\site-packages (from wordcloud) (1.24.3)\n",
      "Requirement already satisfied: pillow in c:\\users\\dell\\appdata\\local\\programs\\python\\python311\\lib\\site-packages (from wordcloud) (10.2.0)\n",
      "Requirement already satisfied: matplotlib in c:\\users\\dell\\appdata\\local\\programs\\python\\python311\\lib\\site-packages (from wordcloud) (3.8.2)\n",
      "Requirement already satisfied: contourpy>=1.0.1 in c:\\users\\dell\\appdata\\local\\programs\\python\\python311\\lib\\site-packages (from matplotlib->wordcloud) (1.2.0)\n",
      "Requirement already satisfied: cycler>=0.10 in c:\\users\\dell\\appdata\\local\\programs\\python\\python311\\lib\\site-packages (from matplotlib->wordcloud) (0.12.1)\n",
      "Requirement already satisfied: fonttools>=4.22.0 in c:\\users\\dell\\appdata\\local\\programs\\python\\python311\\lib\\site-packages (from matplotlib->wordcloud) (4.47.2)\n",
      "Requirement already satisfied: kiwisolver>=1.3.1 in c:\\users\\dell\\appdata\\local\\programs\\python\\python311\\lib\\site-packages (from matplotlib->wordcloud) (1.4.5)\n",
      "Requirement already satisfied: packaging>=20.0 in c:\\users\\dell\\appdata\\local\\programs\\python\\python311\\lib\\site-packages (from matplotlib->wordcloud) (23.1)\n",
      "Requirement already satisfied: pyparsing>=2.3.1 in c:\\users\\dell\\appdata\\local\\programs\\python\\python311\\lib\\site-packages (from matplotlib->wordcloud) (3.1.1)\n",
      "Requirement already satisfied: python-dateutil>=2.7 in c:\\users\\dell\\appdata\\local\\programs\\python\\python311\\lib\\site-packages (from matplotlib->wordcloud) (2.8.2)\n",
      "Requirement already satisfied: six>=1.5 in c:\\users\\dell\\appdata\\local\\programs\\python\\python311\\lib\\site-packages (from python-dateutil>=2.7->matplotlib->wordcloud) (1.16.0)\n",
      "Note: you may need to restart the kernel to use updated packages.\n"
     ]
    },
    {
     "name": "stderr",
     "output_type": "stream",
     "text": [
      "\n",
      "[notice] A new release of pip is available: 23.1.2 -> 24.0\n",
      "[notice] To update, run: python.exe -m pip install --upgrade pip\n"
     ]
    }
   ],
   "source": [
    "pip install wordcloud\n"
   ]
  },
  {
   "cell_type": "code",
   "execution_count": 8,
   "id": "76342c2e",
   "metadata": {},
   "outputs": [],
   "source": [
    "# Importing necessary libraries\n",
    "import nltk\n",
    "from nltk.corpus import stopwords\n",
    "from nltk.stem.porter import PorterStemmer\n",
    "from wordcloud import WordCloud,STOPWORDS\n",
    "from nltk.stem import WordNetLemmatizer\n",
    "from nltk.tokenize import word_tokenize,sent_tokenize\n",
    "from nltk.tokenize.toktok import ToktokTokenizer\n",
    "from nltk.stem import LancasterStemmer,WordNetLemmatizer\n"
   ]
  },
  {
   "cell_type": "markdown",
   "id": "119cfff3",
   "metadata": {},
   "source": [
    "# Removing HTML Strips"
   ]
  },
  {
   "cell_type": "code",
   "execution_count": 9,
   "id": "4845315c",
   "metadata": {},
   "outputs": [
    {
     "name": "stderr",
     "output_type": "stream",
     "text": [
      "C:\\Users\\DELL\\AppData\\Local\\Temp\\ipykernel_18980\\3163875843.py:7: MarkupResemblesLocatorWarning: The input looks more like a filename than markup. You may want to open this file and pass the filehandle into Beautiful Soup.\n",
      "  soup = BeautifulSoup(text, \"html.parser\")\n"
     ]
    }
   ],
   "source": [
    "# Importing necessary libraries\n",
    "from bs4 import BeautifulSoup  # Import BeautifulSoup for HTML tag stripping\n",
    "import re  # Import regular expressions module for pattern matching\n",
    "\n",
    "# Function to strip HTML tags using BeautifulSoup\n",
    "def strip_html(text):\n",
    "    soup = BeautifulSoup(text, \"html.parser\")\n",
    "    return soup.get_text()\n",
    "\n",
    "# Function to remove text between square brackets using regular expression\n",
    "def remove_between_square_brackets(text):\n",
    "    return re.sub('\\[[^]]*\\]', '', text)\n",
    "\n",
    "# Function to denoise text by applying both HTML tag stripping and removing text between square brackets\n",
    "def denoise_text(text):\n",
    "    text = strip_html(text)\n",
    "    text = remove_between_square_brackets(text)\n",
    "    return text\n",
    "\n",
    "# Applying the denoise_text function on the 'Review' column of the DataFrame\n",
    "df['Review'] = df['Review'].apply(denoise_text)\n"
   ]
  },
  {
   "cell_type": "code",
   "execution_count": 10,
   "id": "23c2c105",
   "metadata": {},
   "outputs": [
    {
     "data": {
      "text/html": [
       "<div>\n",
       "<style scoped>\n",
       "    .dataframe tbody tr th:only-of-type {\n",
       "        vertical-align: middle;\n",
       "    }\n",
       "\n",
       "    .dataframe tbody tr th {\n",
       "        vertical-align: top;\n",
       "    }\n",
       "\n",
       "    .dataframe thead th {\n",
       "        text-align: right;\n",
       "    }\n",
       "</style>\n",
       "<table border=\"1\" class=\"dataframe\">\n",
       "  <thead>\n",
       "    <tr style=\"text-align: right;\">\n",
       "      <th></th>\n",
       "      <th>Review</th>\n",
       "      <th>Rating</th>\n",
       "    </tr>\n",
       "  </thead>\n",
       "  <tbody>\n",
       "    <tr>\n",
       "      <th>0</th>\n",
       "      <td>nice hotel expensive parking got good deal sta...</td>\n",
       "      <td>4</td>\n",
       "    </tr>\n",
       "    <tr>\n",
       "      <th>1</th>\n",
       "      <td>ok nothing special charge diamond member hilto...</td>\n",
       "      <td>2</td>\n",
       "    </tr>\n",
       "    <tr>\n",
       "      <th>2</th>\n",
       "      <td>nice rooms not 4* experience hotel monaco seat...</td>\n",
       "      <td>3</td>\n",
       "    </tr>\n",
       "    <tr>\n",
       "      <th>3</th>\n",
       "      <td>unique, great stay, wonderful time hotel monac...</td>\n",
       "      <td>5</td>\n",
       "    </tr>\n",
       "    <tr>\n",
       "      <th>4</th>\n",
       "      <td>great stay great stay, went seahawk game aweso...</td>\n",
       "      <td>5</td>\n",
       "    </tr>\n",
       "    <tr>\n",
       "      <th>...</th>\n",
       "      <td>...</td>\n",
       "      <td>...</td>\n",
       "    </tr>\n",
       "    <tr>\n",
       "      <th>20486</th>\n",
       "      <td>best kept secret 3rd time staying charm, not 5...</td>\n",
       "      <td>5</td>\n",
       "    </tr>\n",
       "    <tr>\n",
       "      <th>20487</th>\n",
       "      <td>great location price view hotel great quick pl...</td>\n",
       "      <td>4</td>\n",
       "    </tr>\n",
       "    <tr>\n",
       "      <th>20488</th>\n",
       "      <td>ok just looks nice modern outside, desk staff ...</td>\n",
       "      <td>2</td>\n",
       "    </tr>\n",
       "    <tr>\n",
       "      <th>20489</th>\n",
       "      <td>hotel theft ruined vacation hotel opened sept ...</td>\n",
       "      <td>1</td>\n",
       "    </tr>\n",
       "    <tr>\n",
       "      <th>20490</th>\n",
       "      <td>people talking, ca n't believe excellent ratin...</td>\n",
       "      <td>2</td>\n",
       "    </tr>\n",
       "  </tbody>\n",
       "</table>\n",
       "<p>20491 rows × 2 columns</p>\n",
       "</div>"
      ],
      "text/plain": [
       "                                                  Review  Rating\n",
       "0      nice hotel expensive parking got good deal sta...       4\n",
       "1      ok nothing special charge diamond member hilto...       2\n",
       "2      nice rooms not 4* experience hotel monaco seat...       3\n",
       "3      unique, great stay, wonderful time hotel monac...       5\n",
       "4      great stay great stay, went seahawk game aweso...       5\n",
       "...                                                  ...     ...\n",
       "20486  best kept secret 3rd time staying charm, not 5...       5\n",
       "20487  great location price view hotel great quick pl...       4\n",
       "20488  ok just looks nice modern outside, desk staff ...       2\n",
       "20489  hotel theft ruined vacation hotel opened sept ...       1\n",
       "20490  people talking, ca n't believe excellent ratin...       2\n",
       "\n",
       "[20491 rows x 2 columns]"
      ]
     },
     "execution_count": 10,
     "metadata": {},
     "output_type": "execute_result"
    }
   ],
   "source": [
    "df"
   ]
  },
  {
   "cell_type": "markdown",
   "id": "8ddd0def",
   "metadata": {},
   "source": [
    "# Removing Special Characters"
   ]
  },
  {
   "cell_type": "code",
   "execution_count": 11,
   "id": "2c02d5b4",
   "metadata": {},
   "outputs": [],
   "source": [
    "# Define function for removing special characters\n",
    "def remove_special_characters(text, remove_digits=True):\n",
    "    # Define the pattern for removing non-alphanumeric characters and spaces\n",
    "    pattern = r'[^a-zA-z0-9\\s]'\n",
    "    \n",
    "    # Use regular expression to substitute the pattern with an empty string\n",
    "    text = re.sub(pattern, '', text)\n",
    "    \n",
    "    return text\n",
    "\n",
    "# Apply the remove_special_characters function on the 'Review' column of the DataFrame\n",
    "df['Review'] = df['Review'].apply(remove_special_characters)\n"
   ]
  },
  {
   "cell_type": "code",
   "execution_count": 12,
   "id": "5bf21918",
   "metadata": {},
   "outputs": [
    {
     "data": {
      "text/html": [
       "<div>\n",
       "<style scoped>\n",
       "    .dataframe tbody tr th:only-of-type {\n",
       "        vertical-align: middle;\n",
       "    }\n",
       "\n",
       "    .dataframe tbody tr th {\n",
       "        vertical-align: top;\n",
       "    }\n",
       "\n",
       "    .dataframe thead th {\n",
       "        text-align: right;\n",
       "    }\n",
       "</style>\n",
       "<table border=\"1\" class=\"dataframe\">\n",
       "  <thead>\n",
       "    <tr style=\"text-align: right;\">\n",
       "      <th></th>\n",
       "      <th>Review</th>\n",
       "      <th>Rating</th>\n",
       "    </tr>\n",
       "  </thead>\n",
       "  <tbody>\n",
       "    <tr>\n",
       "      <th>0</th>\n",
       "      <td>nice hotel expensive parking got good deal sta...</td>\n",
       "      <td>4</td>\n",
       "    </tr>\n",
       "    <tr>\n",
       "      <th>1</th>\n",
       "      <td>ok nothing special charge diamond member hilto...</td>\n",
       "      <td>2</td>\n",
       "    </tr>\n",
       "    <tr>\n",
       "      <th>2</th>\n",
       "      <td>nice rooms not 4 experience hotel monaco seatt...</td>\n",
       "      <td>3</td>\n",
       "    </tr>\n",
       "    <tr>\n",
       "      <th>3</th>\n",
       "      <td>unique great stay wonderful time hotel monaco ...</td>\n",
       "      <td>5</td>\n",
       "    </tr>\n",
       "    <tr>\n",
       "      <th>4</th>\n",
       "      <td>great stay great stay went seahawk game awesom...</td>\n",
       "      <td>5</td>\n",
       "    </tr>\n",
       "    <tr>\n",
       "      <th>...</th>\n",
       "      <td>...</td>\n",
       "      <td>...</td>\n",
       "    </tr>\n",
       "    <tr>\n",
       "      <th>20486</th>\n",
       "      <td>best kept secret 3rd time staying charm not 5s...</td>\n",
       "      <td>5</td>\n",
       "    </tr>\n",
       "    <tr>\n",
       "      <th>20487</th>\n",
       "      <td>great location price view hotel great quick pl...</td>\n",
       "      <td>4</td>\n",
       "    </tr>\n",
       "    <tr>\n",
       "      <th>20488</th>\n",
       "      <td>ok just looks nice modern outside desk staff n...</td>\n",
       "      <td>2</td>\n",
       "    </tr>\n",
       "    <tr>\n",
       "      <th>20489</th>\n",
       "      <td>hotel theft ruined vacation hotel opened sept ...</td>\n",
       "      <td>1</td>\n",
       "    </tr>\n",
       "    <tr>\n",
       "      <th>20490</th>\n",
       "      <td>people talking ca nt believe excellent ratings...</td>\n",
       "      <td>2</td>\n",
       "    </tr>\n",
       "  </tbody>\n",
       "</table>\n",
       "<p>20491 rows × 2 columns</p>\n",
       "</div>"
      ],
      "text/plain": [
       "                                                  Review  Rating\n",
       "0      nice hotel expensive parking got good deal sta...       4\n",
       "1      ok nothing special charge diamond member hilto...       2\n",
       "2      nice rooms not 4 experience hotel monaco seatt...       3\n",
       "3      unique great stay wonderful time hotel monaco ...       5\n",
       "4      great stay great stay went seahawk game awesom...       5\n",
       "...                                                  ...     ...\n",
       "20486  best kept secret 3rd time staying charm not 5s...       5\n",
       "20487  great location price view hotel great quick pl...       4\n",
       "20488  ok just looks nice modern outside desk staff n...       2\n",
       "20489  hotel theft ruined vacation hotel opened sept ...       1\n",
       "20490  people talking ca nt believe excellent ratings...       2\n",
       "\n",
       "[20491 rows x 2 columns]"
      ]
     },
     "execution_count": 12,
     "metadata": {},
     "output_type": "execute_result"
    }
   ],
   "source": [
    "df"
   ]
  },
  {
   "cell_type": "markdown",
   "id": "99a1e34d",
   "metadata": {},
   "source": [
    "# Stemming The Text"
   ]
  },
  {
   "cell_type": "code",
   "execution_count": 13,
   "id": "e5505add",
   "metadata": {},
   "outputs": [],
   "source": [
    "# Import the necessary library\n",
    "import nltk\n",
    "\n",
    "# Define a function for simple stemming\n",
    "def simple_stemmer(text):\n",
    "    # Initialize the Porter stemmer from NLTK\n",
    "    ps = nltk.porter.PorterStemmer()\n",
    "    \n",
    "    # Apply stemming to each word in the text\n",
    "    # Split the text into words, apply stemming to each word, and join them back into a space-separated string\n",
    "    text = ' '.join([ps.stem(word) for word in text.split()])\n",
    "    \n",
    "    # Return the processed text\n",
    "    return text\n",
    "\n",
    "# Apply the simple_stemmer function to the 'Review' column in the DataFrame\n",
    "df['Review'] = df['Review'].apply(simple_stemmer)\n"
   ]
  },
  {
   "cell_type": "code",
   "execution_count": 14,
   "id": "50b16ccd",
   "metadata": {},
   "outputs": [
    {
     "data": {
      "text/html": [
       "<div>\n",
       "<style scoped>\n",
       "    .dataframe tbody tr th:only-of-type {\n",
       "        vertical-align: middle;\n",
       "    }\n",
       "\n",
       "    .dataframe tbody tr th {\n",
       "        vertical-align: top;\n",
       "    }\n",
       "\n",
       "    .dataframe thead th {\n",
       "        text-align: right;\n",
       "    }\n",
       "</style>\n",
       "<table border=\"1\" class=\"dataframe\">\n",
       "  <thead>\n",
       "    <tr style=\"text-align: right;\">\n",
       "      <th></th>\n",
       "      <th>Review</th>\n",
       "      <th>Rating</th>\n",
       "    </tr>\n",
       "  </thead>\n",
       "  <tbody>\n",
       "    <tr>\n",
       "      <th>0</th>\n",
       "      <td>nice hotel expens park got good deal stay hote...</td>\n",
       "      <td>4</td>\n",
       "    </tr>\n",
       "    <tr>\n",
       "      <th>1</th>\n",
       "      <td>ok noth special charg diamond member hilton de...</td>\n",
       "      <td>2</td>\n",
       "    </tr>\n",
       "    <tr>\n",
       "      <th>2</th>\n",
       "      <td>nice room not 4 experi hotel monaco seattl goo...</td>\n",
       "      <td>3</td>\n",
       "    </tr>\n",
       "    <tr>\n",
       "      <th>3</th>\n",
       "      <td>uniqu great stay wonder time hotel monaco loca...</td>\n",
       "      <td>5</td>\n",
       "    </tr>\n",
       "    <tr>\n",
       "      <th>4</th>\n",
       "      <td>great stay great stay went seahawk game awesom...</td>\n",
       "      <td>5</td>\n",
       "    </tr>\n",
       "    <tr>\n",
       "      <th>...</th>\n",
       "      <td>...</td>\n",
       "      <td>...</td>\n",
       "    </tr>\n",
       "    <tr>\n",
       "      <th>20486</th>\n",
       "      <td>best kept secret 3rd time stay charm not 5star...</td>\n",
       "      <td>5</td>\n",
       "    </tr>\n",
       "    <tr>\n",
       "      <th>20487</th>\n",
       "      <td>great locat price view hotel great quick place...</td>\n",
       "      <td>4</td>\n",
       "    </tr>\n",
       "    <tr>\n",
       "      <th>20488</th>\n",
       "      <td>ok just look nice modern outsid desk staff nt ...</td>\n",
       "      <td>2</td>\n",
       "    </tr>\n",
       "    <tr>\n",
       "      <th>20489</th>\n",
       "      <td>hotel theft ruin vacat hotel open sept 17 2007...</td>\n",
       "      <td>1</td>\n",
       "    </tr>\n",
       "    <tr>\n",
       "      <th>20490</th>\n",
       "      <td>peopl talk ca nt believ excel rate hotel just ...</td>\n",
       "      <td>2</td>\n",
       "    </tr>\n",
       "  </tbody>\n",
       "</table>\n",
       "<p>20491 rows × 2 columns</p>\n",
       "</div>"
      ],
      "text/plain": [
       "                                                  Review  Rating\n",
       "0      nice hotel expens park got good deal stay hote...       4\n",
       "1      ok noth special charg diamond member hilton de...       2\n",
       "2      nice room not 4 experi hotel monaco seattl goo...       3\n",
       "3      uniqu great stay wonder time hotel monaco loca...       5\n",
       "4      great stay great stay went seahawk game awesom...       5\n",
       "...                                                  ...     ...\n",
       "20486  best kept secret 3rd time stay charm not 5star...       5\n",
       "20487  great locat price view hotel great quick place...       4\n",
       "20488  ok just look nice modern outsid desk staff nt ...       2\n",
       "20489  hotel theft ruin vacat hotel open sept 17 2007...       1\n",
       "20490  peopl talk ca nt believ excel rate hotel just ...       2\n",
       "\n",
       "[20491 rows x 2 columns]"
      ]
     },
     "execution_count": 14,
     "metadata": {},
     "output_type": "execute_result"
    }
   ],
   "source": [
    "df"
   ]
  },
  {
   "cell_type": "code",
   "execution_count": 15,
   "id": "f2d23d66",
   "metadata": {},
   "outputs": [
    {
     "name": "stderr",
     "output_type": "stream",
     "text": [
      "[nltk_data] Downloading package stopwords to\n",
      "[nltk_data]     C:\\Users\\DELL\\AppData\\Roaming\\nltk_data...\n",
      "[nltk_data]   Package stopwords is already up-to-date!\n"
     ]
    },
    {
     "data": {
      "text/plain": [
       "True"
      ]
     },
     "execution_count": 15,
     "metadata": {},
     "output_type": "execute_result"
    }
   ],
   "source": [
    "# Import the NLTK library\n",
    "import nltk\n",
    "\n",
    "# Download the NLTK stopwords dataset\n",
    "nltk.download('stopwords')"
   ]
  },
  {
   "cell_type": "markdown",
   "id": "82618079",
   "metadata": {},
   "source": [
    "# Text Normalization"
   ]
  },
  {
   "cell_type": "code",
   "execution_count": 16,
   "id": "678a515b",
   "metadata": {},
   "outputs": [],
   "source": [
    "#Initialize the ToktokTokenizer for text tokenization\n",
    "tokenizer=ToktokTokenizer()\n",
    "#Setting English stopwords using NLTK\n",
    "stopword_list=nltk.corpus.stopwords.words('english')\n",
    "# The 'tokenizer' object can be used to tokenize text, breaking it down into individual units like words or sentences.\n",
    "# Tokenization is a crucial step in natural language processing (NLP) tasks.\n",
    "\n",
    "# 'stopword_list' contains common English stopwords. \n",
    "# Stopwords are words that are frequently used in a language but often do not contribute much to the meaning of a text.\n",
    "# They are commonly removed during text processing to focus on more meaningful words.\n",
    "\n",
    "# Now you can use the 'tokenizer' object and 'stopword_list' for further text processing and analysis.\n"
   ]
  },
  {
   "cell_type": "code",
   "execution_count": 17,
   "id": "080338da",
   "metadata": {},
   "outputs": [
    {
     "data": {
      "text/html": [
       "<div>\n",
       "<style scoped>\n",
       "    .dataframe tbody tr th:only-of-type {\n",
       "        vertical-align: middle;\n",
       "    }\n",
       "\n",
       "    .dataframe tbody tr th {\n",
       "        vertical-align: top;\n",
       "    }\n",
       "\n",
       "    .dataframe thead th {\n",
       "        text-align: right;\n",
       "    }\n",
       "</style>\n",
       "<table border=\"1\" class=\"dataframe\">\n",
       "  <thead>\n",
       "    <tr style=\"text-align: right;\">\n",
       "      <th></th>\n",
       "      <th>Review</th>\n",
       "      <th>Rating</th>\n",
       "    </tr>\n",
       "  </thead>\n",
       "  <tbody>\n",
       "    <tr>\n",
       "      <th>0</th>\n",
       "      <td>nice hotel expens park got good deal stay hote...</td>\n",
       "      <td>4</td>\n",
       "    </tr>\n",
       "    <tr>\n",
       "      <th>1</th>\n",
       "      <td>ok noth special charg diamond member hilton de...</td>\n",
       "      <td>2</td>\n",
       "    </tr>\n",
       "    <tr>\n",
       "      <th>2</th>\n",
       "      <td>nice room not 4 experi hotel monaco seattl goo...</td>\n",
       "      <td>3</td>\n",
       "    </tr>\n",
       "    <tr>\n",
       "      <th>3</th>\n",
       "      <td>uniqu great stay wonder time hotel monaco loca...</td>\n",
       "      <td>5</td>\n",
       "    </tr>\n",
       "    <tr>\n",
       "      <th>4</th>\n",
       "      <td>great stay great stay went seahawk game awesom...</td>\n",
       "      <td>5</td>\n",
       "    </tr>\n",
       "    <tr>\n",
       "      <th>...</th>\n",
       "      <td>...</td>\n",
       "      <td>...</td>\n",
       "    </tr>\n",
       "    <tr>\n",
       "      <th>20486</th>\n",
       "      <td>best kept secret 3rd time stay charm not 5star...</td>\n",
       "      <td>5</td>\n",
       "    </tr>\n",
       "    <tr>\n",
       "      <th>20487</th>\n",
       "      <td>great locat price view hotel great quick place...</td>\n",
       "      <td>4</td>\n",
       "    </tr>\n",
       "    <tr>\n",
       "      <th>20488</th>\n",
       "      <td>ok just look nice modern outsid desk staff nt ...</td>\n",
       "      <td>2</td>\n",
       "    </tr>\n",
       "    <tr>\n",
       "      <th>20489</th>\n",
       "      <td>hotel theft ruin vacat hotel open sept 17 2007...</td>\n",
       "      <td>1</td>\n",
       "    </tr>\n",
       "    <tr>\n",
       "      <th>20490</th>\n",
       "      <td>peopl talk ca nt believ excel rate hotel just ...</td>\n",
       "      <td>2</td>\n",
       "    </tr>\n",
       "  </tbody>\n",
       "</table>\n",
       "<p>20491 rows × 2 columns</p>\n",
       "</div>"
      ],
      "text/plain": [
       "                                                  Review  Rating\n",
       "0      nice hotel expens park got good deal stay hote...       4\n",
       "1      ok noth special charg diamond member hilton de...       2\n",
       "2      nice room not 4 experi hotel monaco seattl goo...       3\n",
       "3      uniqu great stay wonder time hotel monaco loca...       5\n",
       "4      great stay great stay went seahawk game awesom...       5\n",
       "...                                                  ...     ...\n",
       "20486  best kept secret 3rd time stay charm not 5star...       5\n",
       "20487  great locat price view hotel great quick place...       4\n",
       "20488  ok just look nice modern outsid desk staff nt ...       2\n",
       "20489  hotel theft ruin vacat hotel open sept 17 2007...       1\n",
       "20490  peopl talk ca nt believ excel rate hotel just ...       2\n",
       "\n",
       "[20491 rows x 2 columns]"
      ]
     },
     "execution_count": 17,
     "metadata": {},
     "output_type": "execute_result"
    }
   ],
   "source": [
    "df"
   ]
  },
  {
   "cell_type": "markdown",
   "id": "cad76af3",
   "metadata": {},
   "source": [
    "# Removing StopWords"
   ]
  },
  {
   "cell_type": "code",
   "execution_count": 18,
   "id": "c5fcd5ee",
   "metadata": {
    "scrolled": true
   },
   "outputs": [
    {
     "name": "stdout",
     "output_type": "stream",
     "text": [
      "{'after', 'it', 'what', 'as', 'above', \"mightn't\", 'in', 'by', \"you'd\", 'but', 'to', 'from', 'herself', 'between', 'further', \"needn't\", \"weren't\", 'm', \"don't\", 'your', 'nor', 'a', 're', 'them', 'were', 'couldn', 'then', \"aren't\", 'we', 'against', 'didn', 'off', 'here', 'out', 'her', 'wouldn', 've', 'before', 'through', 'ain', 'has', \"you've\", 'hers', 'about', 'she', 'his', 'are', 'you', 'under', 'be', 'when', 'same', \"shouldn't\", 'our', 'yourself', 'an', 'needn', 's', \"you'll\", 'can', 'with', 'been', 'those', \"hasn't\", 'where', 'such', 'own', 'mustn', 'don', 'they', 'and', 'than', \"should've\", 'most', 'which', 'should', 'myself', 'haven', 'was', 'why', 'doesn', 'not', 'aren', 'their', 'for', 'again', 'mightn', 'any', 'now', 'ourselves', 'doing', 'until', 'ma', 'over', 'i', 'because', 'o', \"haven't\", 'both', 'at', 'is', \"won't\", 'this', 'yours', 'my', 'each', 'isn', 'had', \"she's\", 'whom', 'just', 'll', 'only', 'these', 'hadn', 'very', 't', \"mustn't\", 'few', 'him', 'if', 'y', 'he', 'on', 'too', \"hadn't\", \"you're\", 'do', 'having', 'so', 'or', \"wouldn't\", 'am', 'hasn', 'once', 'd', \"shan't\", 'shan', 'wasn', \"isn't\", 'did', 'up', 'there', 'shouldn', 'will', 'himself', 'more', 'themselves', \"doesn't\", \"wasn't\", 'itself', \"it's\", 'that', 'how', 'ours', 'won', 'its', 'theirs', 'me', 'during', 'weren', 'all', 'yourselves', 'being', 'does', 'down', \"didn't\", 'have', 'into', 'of', 'some', 'no', 'the', \"couldn't\", 'who', 'while', 'below', \"that'll\", 'other'}\n"
     ]
    }
   ],
   "source": [
    "# Set English stopwords using NLTK\n",
    "stop = set(stopwords.words('english'))\n",
    "\n",
    "# Print the set of stopwords\n",
    "print(stop)\n",
    "\n",
    "# Define a function to remove stopwords from text\n",
    "def remove_stopwords(text, is_lower_case=False):\n",
    "    # Tokenize the text using the previously defined 'tokenizer'\n",
    "    tokens = tokenizer.tokenize(text)\n",
    "    \n",
    "    # Remove leading and trailing whitespaces from each token\n",
    "    tokens = [token.strip() for token in tokens]\n",
    "    \n",
    "    # Check if the text is in lowercase or not\n",
    "    if is_lower_case:\n",
    "        # Remove stopwords from tokens (case-sensitive)\n",
    "        filtered_tokens = [token for token in tokens if token not in stop]\n",
    "    else:\n",
    "        # Remove stopwords from tokens (case-insensitive)\n",
    "        filtered_tokens = [token for token in tokens if token.lower() not in stop]\n",
    "    \n",
    "    # Join the filtered tokens back into a text string\n",
    "    filtered_text = ' '.join(filtered_tokens)\n",
    "    \n",
    "    # Return the text with stopwords removed\n",
    "    return filtered_text\n",
    "\n",
    "# Apply the remove_stopwords function to the 'Review' column in the DataFrame\n",
    "df['Review'] = df['Review'].apply(remove_stopwords)\n"
   ]
  },
  {
   "cell_type": "code",
   "execution_count": 19,
   "id": "4295f46f",
   "metadata": {},
   "outputs": [
    {
     "data": {
      "text/html": [
       "<div>\n",
       "<style scoped>\n",
       "    .dataframe tbody tr th:only-of-type {\n",
       "        vertical-align: middle;\n",
       "    }\n",
       "\n",
       "    .dataframe tbody tr th {\n",
       "        vertical-align: top;\n",
       "    }\n",
       "\n",
       "    .dataframe thead th {\n",
       "        text-align: right;\n",
       "    }\n",
       "</style>\n",
       "<table border=\"1\" class=\"dataframe\">\n",
       "  <thead>\n",
       "    <tr style=\"text-align: right;\">\n",
       "      <th></th>\n",
       "      <th>Review</th>\n",
       "      <th>Rating</th>\n",
       "    </tr>\n",
       "  </thead>\n",
       "  <tbody>\n",
       "    <tr>\n",
       "      <th>0</th>\n",
       "      <td>nice hotel expens park got good deal stay hote...</td>\n",
       "      <td>4</td>\n",
       "    </tr>\n",
       "    <tr>\n",
       "      <th>1</th>\n",
       "      <td>ok noth special charg diamond member hilton de...</td>\n",
       "      <td>2</td>\n",
       "    </tr>\n",
       "    <tr>\n",
       "      <th>2</th>\n",
       "      <td>nice room 4 experi hotel monaco seattl good ho...</td>\n",
       "      <td>3</td>\n",
       "    </tr>\n",
       "    <tr>\n",
       "      <th>3</th>\n",
       "      <td>uniqu great stay wonder time hotel monaco loca...</td>\n",
       "      <td>5</td>\n",
       "    </tr>\n",
       "    <tr>\n",
       "      <th>4</th>\n",
       "      <td>great stay great stay went seahawk game awesom...</td>\n",
       "      <td>5</td>\n",
       "    </tr>\n",
       "    <tr>\n",
       "      <th>...</th>\n",
       "      <td>...</td>\n",
       "      <td>...</td>\n",
       "    </tr>\n",
       "    <tr>\n",
       "      <th>20486</th>\n",
       "      <td>best kept secret 3rd time stay charm 5star ca ...</td>\n",
       "      <td>5</td>\n",
       "    </tr>\n",
       "    <tr>\n",
       "      <th>20487</th>\n",
       "      <td>great locat price view hotel great quick place...</td>\n",
       "      <td>4</td>\n",
       "    </tr>\n",
       "    <tr>\n",
       "      <th>20488</th>\n",
       "      <td>ok look nice modern outsid desk staff nt parti...</td>\n",
       "      <td>2</td>\n",
       "    </tr>\n",
       "    <tr>\n",
       "      <th>20489</th>\n",
       "      <td>hotel theft ruin vacat hotel open sept 17 2007...</td>\n",
       "      <td>1</td>\n",
       "    </tr>\n",
       "    <tr>\n",
       "      <th>20490</th>\n",
       "      <td>peopl talk ca nt believ excel rate hotel nt ye...</td>\n",
       "      <td>2</td>\n",
       "    </tr>\n",
       "  </tbody>\n",
       "</table>\n",
       "<p>20491 rows × 2 columns</p>\n",
       "</div>"
      ],
      "text/plain": [
       "                                                  Review  Rating\n",
       "0      nice hotel expens park got good deal stay hote...       4\n",
       "1      ok noth special charg diamond member hilton de...       2\n",
       "2      nice room 4 experi hotel monaco seattl good ho...       3\n",
       "3      uniqu great stay wonder time hotel monaco loca...       5\n",
       "4      great stay great stay went seahawk game awesom...       5\n",
       "...                                                  ...     ...\n",
       "20486  best kept secret 3rd time stay charm 5star ca ...       5\n",
       "20487  great locat price view hotel great quick place...       4\n",
       "20488  ok look nice modern outsid desk staff nt parti...       2\n",
       "20489  hotel theft ruin vacat hotel open sept 17 2007...       1\n",
       "20490  peopl talk ca nt believ excel rate hotel nt ye...       2\n",
       "\n",
       "[20491 rows x 2 columns]"
      ]
     },
     "execution_count": 19,
     "metadata": {},
     "output_type": "execute_result"
    }
   ],
   "source": [
    "df"
   ]
  },
  {
   "cell_type": "markdown",
   "id": "c1a32672",
   "metadata": {},
   "source": [
    "# Splitting Dataset Into Training And Testing "
   ]
  },
  {
   "cell_type": "code",
   "execution_count": 20,
   "id": "68e1b8e0",
   "metadata": {
    "scrolled": true
   },
   "outputs": [
    {
     "name": "stdout",
     "output_type": "stream",
     "text": [
      "nice hotel expens park got good deal stay hotel anniversari arriv late even took advic previou review valet park check quick easi littl disappoint nonexist view room room clean nice size bed comfort woke stiff neck high pillow soundproof like heard music room night morn loud bang door open close hear peopl talk hallway mayb noisi neighbor aveda bath product nice goldfish stay nice touch taken advantag stay longer locat great walk distanc shop overal nice experi pay 40 park night\n"
     ]
    }
   ],
   "source": [
    "# Assuming the total number of rows in your DataFrame is 20490\n",
    "\n",
    "# Selecting 80% of the data for training (16392 out of 20490)\n",
    "norm_train_reviews = df.Review[:16392]\n",
    "\n",
    "# Accessing the first review in the training set\n",
    "first_review_in_training_set = norm_train_reviews[0]# Assuming the total number of rows in your DataFrame is 20490\n",
    "\n",
    "# Selecting 20% of the data for testing (4098 out of 20490)\n",
    "norm_test_reviews = df.Review[4098:]\n",
    "\n",
    "# This line sets aside a portion of the data for testing purposes.\n",
    "# It assumes that the first 80% of the data is used for training (as mentioned in previous code).\n",
    "\n",
    "# The test set typically starts from a specific index (4098 in this case) and goes to the end of the DataFrame.\n",
    "# The size of the test set is determined by the remaining 20% of the data.\n",
    "\n",
    "# It is a common practice to split the data into training and testing sets to evaluate the model's performance on unseen data.\n",
    "\n",
    "\n",
    "# Print the first review in the training set\n",
    "print(first_review_in_training_set)\n"
   ]
  },
  {
   "cell_type": "code",
   "execution_count": 21,
   "id": "ab85cb2e",
   "metadata": {},
   "outputs": [],
   "source": [
    "# Assuming the total number of rows in your DataFrame is 20490\n",
    "\n",
    "# Selecting 20% of the data for testing (4098 out of 20490)\n",
    "norm_test_reviews = df.Review[4098:]\n",
    "\n",
    "# This line sets aside a portion of the data for testing purposes.\n",
    "# It assumes that the first 80% of the data is used for training (as mentioned in previous code).\n",
    "\n",
    "# The test set typically starts from a specific index (4098 in this case) and goes to the end of the DataFrame.\n",
    "# The size of the test set is determined by the remaining 20% of the data.\n",
    "\n",
    "# It is a common practice to split the data into training and testing sets to evaluate the model's performance on unseen data.\n"
   ]
  },
  {
   "cell_type": "code",
   "execution_count": 22,
   "id": "07a2084f",
   "metadata": {},
   "outputs": [],
   "source": [
    "#TERM FREQUENCY INVERSE DOCUMENT FREQUENCY MODEL(TFIDF)\n",
    "#IT IS USED TO CONVERT TEXT DOCUMENT TO MATRIX OF TFIDF FEATURE"
   ]
  },
  {
   "cell_type": "code",
   "execution_count": 23,
   "id": "84f642da",
   "metadata": {},
   "outputs": [
    {
     "name": "stdout",
     "output_type": "stream",
     "text": [
      "Note: you may need to restart the kernel to use updated packages.Requirement already satisfied: scikit-learn in c:\\users\\dell\\appdata\\local\\programs\\python\\python311\\lib\\site-packages (1.4.0)\n",
      "Requirement already satisfied: numpy<2.0,>=1.19.5 in c:\\users\\dell\\appdata\\local\\programs\\python\\python311\\lib\\site-packages (from scikit-learn) (1.24.3)\n",
      "Requirement already satisfied: scipy>=1.6.0 in c:\\users\\dell\\appdata\\local\\programs\\python\\python311\\lib\\site-packages (from scikit-learn) (1.12.0)\n",
      "Requirement already satisfied: joblib>=1.2.0 in c:\\users\\dell\\appdata\\local\\programs\\python\\python311\\lib\\site-packages (from scikit-learn) (1.3.2)\n",
      "Requirement already satisfied: threadpoolctl>=2.0.0 in c:\\users\\dell\\appdata\\local\\programs\\python\\python311\\lib\\site-packages (from scikit-learn) (3.2.0)\n",
      "\n"
     ]
    },
    {
     "name": "stderr",
     "output_type": "stream",
     "text": [
      "\n",
      "[notice] A new release of pip is available: 23.1.2 -> 24.0\n",
      "[notice] To update, run: python.exe -m pip install --upgrade pip\n"
     ]
    }
   ],
   "source": [
    "pip install scikit-learn"
   ]
  },
  {
   "cell_type": "code",
   "execution_count": 24,
   "id": "fc51e3c1",
   "metadata": {},
   "outputs": [
    {
     "name": "stdout",
     "output_type": "stream",
     "text": [
      "BOW_cv_train: (16392, 1838470)\n",
      "BOW_cv_test: (16393, 1838470)\n"
     ]
    }
   ],
   "source": [
    "# Importing CountVectorizer from scikit-learn\n",
    "from sklearn.feature_extraction.text import CountVectorizer\n",
    "\n",
    "# Initializing CountVectorizer with specified parameters\n",
    "cv = CountVectorizer(min_df=0.0, max_df=1, binary=False, ngram_range=(1, 3))\n",
    "\n",
    "# Transforming training reviews using CountVectorizer\n",
    "cv_train_reviews = cv.fit_transform(norm_train_reviews)\n",
    "\n",
    "# Transforming test reviews using the same CountVectorizer\n",
    "cv_test_reviews = cv.transform(norm_test_reviews)\n",
    "\n",
    "# Printing the shape of the transformed training and test reviews\n",
    "print('BOW_cv_train:', cv_train_reviews.shape)\n",
    "print('BOW_cv_test:', cv_test_reviews.shape)\n",
    "\n",
    "# The CountVectorizer is used to convert a collection of text documents into a matrix of token counts.\n",
    "# min_df is the minimum document frequency, max_df is the maximum document frequency,\n",
    "# binary is set to False to get the count of each word, and ngram_range is set to (1, 3) for unigrams, bigrams, and trigrams.\n",
    "\n",
    "# The transformed reviews are represented as sparse matrices where each row corresponds to a document,\n",
    "# and each column corresponds to a unique word in the vocabulary.\n",
    "\n",
    "# The vocabulary of the CountVectorizer can be obtained using:\n",
    "# vocab = cv.get_feature_names()\n",
    "# This will return a list of feature names (words) used \n"
   ]
  },
  {
   "cell_type": "code",
   "execution_count": 25,
   "id": "4b5da130",
   "metadata": {},
   "outputs": [
    {
     "name": "stdout",
     "output_type": "stream",
     "text": [
      "Tfidf_train: (16392, 1838470)\n",
      "Tfidf_test: (16393, 1838470)\n"
     ]
    }
   ],
   "source": [
    "# Importing TfidfVectorizer from scikit-learn\n",
    "from sklearn.feature_extraction.text import TfidfVectorizer\n",
    "\n",
    "# Initializing TfidfVectorizer with specified parameters\n",
    "tv = TfidfVectorizer(min_df=0.0, max_df=1, use_idf=True, ngram_range=(1, 3))\n",
    "\n",
    "# Transforming training reviews using TfidfVectorizer\n",
    "tv_train_reviews = tv.fit_transform(norm_train_reviews)\n",
    "\n",
    "# Transforming test reviews using the same TfidfVectorizer\n",
    "tv_test_reviews = tv.transform(norm_test_reviews)\n",
    "\n",
    "# Printing the shape of the transformed training and test reviews\n",
    "print('Tfidf_train:', tv_train_reviews.shape)\n",
    "print('Tfidf_test:', tv_test_reviews.shape)\n",
    "\n",
    "# TfidfVectorizer is used to convert a collection of text documents into a matrix of term frequency-inverse document frequency (TF-IDF) features.\n",
    "# min_df is the minimum document frequency, max_df is the maximum document frequency,\n",
    "# use_idf is set to True to enable inverse-document-frequency reweighting, and ngram_range is set to (1, 3) for unigrams, bigrams, and trigrams.\n",
    "\n",
    "# The transformed reviews are represented as sparse matrices where each row corresponds to a document,\n",
    "# and each column corresponds to a unique n-gram in the vocabulary.\n",
    "\n",
    "# The shape of the resulting matrices indicates the number of documents and the size of the vocabulary.\n"
   ]
  },
  {
   "cell_type": "code",
   "execution_count": 26,
   "id": "64595ced",
   "metadata": {},
   "outputs": [
    {
     "name": "stdout",
     "output_type": "stream",
     "text": [
      "(20491, 5)\n",
      "['1' '2' '3' '4' '5']\n",
      "LogisticRegression(C=1, max_iter=500, random_state=42)\n",
      "LogisticRegression(C=1, max_iter=500, random_state=42)\n"
     ]
    }
   ],
   "source": [
    "# Importing necessary libraries\n",
    "from sklearn.preprocessing import LabelBinarizer\n",
    "from sklearn.linear_model import LogisticRegression\n",
    "from sklearn.feature_extraction.text import CountVectorizer, TfidfVectorizer\n",
    "\n",
    "# Assuming df is your DataFrame\n",
    "df['Rating'] = df['Rating'].astype(str)\n",
    "\n",
    "# Labeling the sentiment data\n",
    "lb = LabelBinarizer()\n",
    "sentiment_data = lb.fit_transform(df['Rating'])\n",
    "\n",
    "# Printing the shape and classes of the sentiment data\n",
    "print(sentiment_data.shape)\n",
    "print(lb.classes_)\n",
    "\n",
    "# Extracting the column representing the sentiment labels\n",
    "sentiment_labels = lb.classes_\n",
    "\n",
    "# Splitting sentiment data into training and testing sets\n",
    "train_sentiments = sentiment_data[:16392, 0]  # Use the first column\n",
    "test_sentiments = sentiment_data[4098:, 0]   # Use the first column\n",
    "\n",
    "# Initializing Logistic Regression model\n",
    "lr = LogisticRegression(penalty='l2', max_iter=500, C=1, random_state=42)\n",
    "\n",
    "# Fitting the model for Bag of Words features\n",
    "lr_bow = lr.fit(cv_train_reviews, train_sentiments)\n",
    "print(lr_bow)\n",
    "\n",
    "# Fitting the model for TF-IDF features\n",
    "lr_tfidf = lr.fit(tv_train_reviews, train_sentiments)\n",
    "print(lr_tfidf)\n"
   ]
  },
  {
   "cell_type": "code",
   "execution_count": 27,
   "id": "9ec82c4c",
   "metadata": {},
   "outputs": [
    {
     "data": {
      "text/html": [
       "<div>\n",
       "<style scoped>\n",
       "    .dataframe tbody tr th:only-of-type {\n",
       "        vertical-align: middle;\n",
       "    }\n",
       "\n",
       "    .dataframe tbody tr th {\n",
       "        vertical-align: top;\n",
       "    }\n",
       "\n",
       "    .dataframe thead th {\n",
       "        text-align: right;\n",
       "    }\n",
       "</style>\n",
       "<table border=\"1\" class=\"dataframe\">\n",
       "  <thead>\n",
       "    <tr style=\"text-align: right;\">\n",
       "      <th></th>\n",
       "      <th>Review</th>\n",
       "      <th>Rating</th>\n",
       "    </tr>\n",
       "  </thead>\n",
       "  <tbody>\n",
       "    <tr>\n",
       "      <th>0</th>\n",
       "      <td>nice hotel expens park got good deal stay hote...</td>\n",
       "      <td>4</td>\n",
       "    </tr>\n",
       "    <tr>\n",
       "      <th>1</th>\n",
       "      <td>ok noth special charg diamond member hilton de...</td>\n",
       "      <td>2</td>\n",
       "    </tr>\n",
       "    <tr>\n",
       "      <th>2</th>\n",
       "      <td>nice room 4 experi hotel monaco seattl good ho...</td>\n",
       "      <td>3</td>\n",
       "    </tr>\n",
       "    <tr>\n",
       "      <th>3</th>\n",
       "      <td>uniqu great stay wonder time hotel monaco loca...</td>\n",
       "      <td>5</td>\n",
       "    </tr>\n",
       "    <tr>\n",
       "      <th>4</th>\n",
       "      <td>great stay great stay went seahawk game awesom...</td>\n",
       "      <td>5</td>\n",
       "    </tr>\n",
       "    <tr>\n",
       "      <th>...</th>\n",
       "      <td>...</td>\n",
       "      <td>...</td>\n",
       "    </tr>\n",
       "    <tr>\n",
       "      <th>20486</th>\n",
       "      <td>best kept secret 3rd time stay charm 5star ca ...</td>\n",
       "      <td>5</td>\n",
       "    </tr>\n",
       "    <tr>\n",
       "      <th>20487</th>\n",
       "      <td>great locat price view hotel great quick place...</td>\n",
       "      <td>4</td>\n",
       "    </tr>\n",
       "    <tr>\n",
       "      <th>20488</th>\n",
       "      <td>ok look nice modern outsid desk staff nt parti...</td>\n",
       "      <td>2</td>\n",
       "    </tr>\n",
       "    <tr>\n",
       "      <th>20489</th>\n",
       "      <td>hotel theft ruin vacat hotel open sept 17 2007...</td>\n",
       "      <td>1</td>\n",
       "    </tr>\n",
       "    <tr>\n",
       "      <th>20490</th>\n",
       "      <td>peopl talk ca nt believ excel rate hotel nt ye...</td>\n",
       "      <td>2</td>\n",
       "    </tr>\n",
       "  </tbody>\n",
       "</table>\n",
       "<p>20491 rows × 2 columns</p>\n",
       "</div>"
      ],
      "text/plain": [
       "                                                  Review Rating\n",
       "0      nice hotel expens park got good deal stay hote...      4\n",
       "1      ok noth special charg diamond member hilton de...      2\n",
       "2      nice room 4 experi hotel monaco seattl good ho...      3\n",
       "3      uniqu great stay wonder time hotel monaco loca...      5\n",
       "4      great stay great stay went seahawk game awesom...      5\n",
       "...                                                  ...    ...\n",
       "20486  best kept secret 3rd time stay charm 5star ca ...      5\n",
       "20487  great locat price view hotel great quick place...      4\n",
       "20488  ok look nice modern outsid desk staff nt parti...      2\n",
       "20489  hotel theft ruin vacat hotel open sept 17 2007...      1\n",
       "20490  peopl talk ca nt believ excel rate hotel nt ye...      2\n",
       "\n",
       "[20491 rows x 2 columns]"
      ]
     },
     "execution_count": 27,
     "metadata": {},
     "output_type": "execute_result"
    }
   ],
   "source": [
    "df"
   ]
  },
  {
   "cell_type": "markdown",
   "id": "aa86ca92",
   "metadata": {},
   "source": [
    "# LOGISTIC REGRESSION MODEL PERFORMANCE ON TEST DATASET"
   ]
  },
  {
   "cell_type": "code",
   "execution_count": 28,
   "id": "c389851a",
   "metadata": {},
   "outputs": [
    {
     "name": "stdout",
     "output_type": "stream",
     "text": [
      "Predictions for Bag of Words features: [0 0 0 ... 0 0 0]\n",
      "Predictions for TF-IDF features: [0 0 0 ... 0 0 0]\n"
     ]
    }
   ],
   "source": [
    "# Predicting the sentiment using the trained logistic regression model on Bag of Words features\n",
    "lr_bow_predict = lr.predict(cv_test_reviews)\n",
    "print(\"Predictions for Bag of Words features:\", lr_bow_predict)\n",
    "\n",
    "# Predicting the sentiment using the trained logistic regression model on TF-IDF features\n",
    "lr_tfidf_predict = lr.predict(tv_test_reviews)\n",
    "print(\"Predictions for TF-IDF features:\", lr_tfidf_predict)\n"
   ]
  },
  {
   "cell_type": "markdown",
   "id": "0396e808",
   "metadata": {},
   "source": [
    "# ACCURACY OF THE MODEL\n"
   ]
  },
  {
   "cell_type": "code",
   "execution_count": 29,
   "id": "1ac09be4",
   "metadata": {},
   "outputs": [
    {
     "name": "stdout",
     "output_type": "stream",
     "text": [
      "Classification Report for Bag of Words predictions:\n",
      "              precision    recall  f1-score   support\n",
      "\n",
      "           0       0.99      1.00      0.99     15342\n",
      "           1       1.00      0.79      0.88      1051\n",
      "\n",
      "    accuracy                           0.99     16393\n",
      "   macro avg       0.99      0.90      0.94     16393\n",
      "weighted avg       0.99      0.99      0.99     16393\n",
      "\n",
      "Confusion Matrix for Bag of Words predictions:\n",
      "[[15342     0]\n",
      " [  220   831]]\n",
      "Accuracy Score for Bag of Words predictions: 0.9865796376502165\n",
      "\n",
      "Classification Report for TF-IDF predictions:\n",
      "              precision    recall  f1-score   support\n",
      "\n",
      "           0       0.94      1.00      0.97     15342\n",
      "           1       0.00      0.00      0.00      1051\n",
      "\n",
      "    accuracy                           0.94     16393\n",
      "   macro avg       0.47      0.50      0.48     16393\n",
      "weighted avg       0.88      0.94      0.90     16393\n",
      "\n",
      "Confusion Matrix for TF-IDF predictions:\n",
      "[[15342     0]\n",
      " [ 1051     0]]\n",
      "Accuracy Score for TF-IDF predictions: 0.9358872689562618\n"
     ]
    },
    {
     "name": "stderr",
     "output_type": "stream",
     "text": [
      "C:\\Users\\DELL\\AppData\\Local\\Programs\\Python\\Python311\\Lib\\site-packages\\sklearn\\metrics\\_classification.py:1497: UndefinedMetricWarning: Precision is ill-defined and being set to 0.0 in labels with no predicted samples. Use `zero_division` parameter to control this behavior.\n",
      "  _warn_prf(average, modifier, f\"{metric.capitalize()} is\", len(result))\n",
      "C:\\Users\\DELL\\AppData\\Local\\Programs\\Python\\Python311\\Lib\\site-packages\\sklearn\\metrics\\_classification.py:1497: UndefinedMetricWarning: Precision is ill-defined and being set to 0.0 in labels with no predicted samples. Use `zero_division` parameter to control this behavior.\n",
      "  _warn_prf(average, modifier, f\"{metric.capitalize()} is\", len(result))\n",
      "C:\\Users\\DELL\\AppData\\Local\\Programs\\Python\\Python311\\Lib\\site-packages\\sklearn\\metrics\\_classification.py:1497: UndefinedMetricWarning: Precision is ill-defined and being set to 0.0 in labels with no predicted samples. Use `zero_division` parameter to control this behavior.\n",
      "  _warn_prf(average, modifier, f\"{metric.capitalize()} is\", len(result))\n"
     ]
    }
   ],
   "source": [
    "# Importing necessary metrics from scikit-learn\n",
    "from sklearn.metrics import classification_report, confusion_matrix, accuracy_score\n",
    "\n",
    "# Predicting the sentiment using the trained logistic regression model on Bag of Words features\n",
    "lr_bow_predict = lr.predict(cv_test_reviews)\n",
    "\n",
    "# Displaying classification report, confusion matrix, and accuracy score for Bag of Words predictions\n",
    "print(\"Classification Report for Bag of Words predictions:\")\n",
    "print(classification_report(test_sentiments, lr_bow_predict))\n",
    "print(\"Confusion Matrix for Bag of Words predictions:\")\n",
    "print(confusion_matrix(test_sentiments, lr_bow_predict))\n",
    "print(\"Accuracy Score for Bag of Words predictions:\", accuracy_score(test_sentiments, lr_bow_predict))\n",
    "\n",
    "# Predicting the sentiment using the trained logistic regression model on TF-IDF features\n",
    "lr_tfidf_predict = lr.predict(tv_test_reviews)\n",
    "\n",
    "# Displaying classification report, confusion matrix, and accuracy score for TF-IDF predictions\n",
    "print(\"\\nClassification Report for TF-IDF predictions:\")\n",
    "print(classification_report(test_sentiments, lr_tfidf_predict))\n",
    "print(\"Confusion Matrix for TF-IDF predictions:\")\n",
    "print(confusion_matrix(test_sentiments, lr_tfidf_predict))\n",
    "print(\"Accuracy Score for TF-IDF predictions:\", accuracy_score(test_sentiments, lr_tfidf_predict))\n"
   ]
  },
  {
   "cell_type": "markdown",
   "id": "19aa5540",
   "metadata": {},
   "source": [
    "# USING NAIVE BAYES"
   ]
  },
  {
   "cell_type": "code",
   "execution_count": 30,
   "id": "8e086a56",
   "metadata": {},
   "outputs": [],
   "source": [
    "# Importing Multinomial Naive Bayes classifier from scikit-learn\n",
    "from sklearn.naive_bayes import MultinomialNB\n"
   ]
  },
  {
   "cell_type": "code",
   "execution_count": 31,
   "id": "847c5d0e",
   "metadata": {},
   "outputs": [
    {
     "name": "stdout",
     "output_type": "stream",
     "text": [
      "Multinomial Naive Bayes Model for Bag of Words features: MultinomialNB()\n",
      "Multinomial Naive Bayes Model for TF-IDF features: MultinomialNB()\n"
     ]
    }
   ],
   "source": [
    "# Creating an instance of the Multinomial Naive Bayes classifier\n",
    "mnb = MultinomialNB()\n",
    "\n",
    "# Fitting the Multinomial Naive Bayes model for Bag of Words features\n",
    "mnb_bow = mnb.fit(cv_train_reviews, train_sentiments)\n",
    "print(\"Multinomial Naive Bayes Model for Bag of Words features:\", mnb_bow)\n",
    "\n",
    "# Fitting the Multinomial Naive Bayes model for TF-IDF features\n",
    "mnb_tfidf = mnb.fit(tv_train_reviews, train_sentiments)\n",
    "print(\"Multinomial Naive Bayes Model for TF-IDF features:\", mnb_tfidf)\n"
   ]
  },
  {
   "cell_type": "markdown",
   "id": "14b887b0",
   "metadata": {},
   "source": [
    "# PREDICTING THE MODEL"
   ]
  },
  {
   "cell_type": "code",
   "execution_count": 32,
   "id": "27c03a0c",
   "metadata": {},
   "outputs": [
    {
     "name": "stdout",
     "output_type": "stream",
     "text": [
      "[1 0 0 ... 0 1 0]\n",
      "[0 0 0 ... 0 0 0]\n"
     ]
    }
   ],
   "source": [
    "#Predicting the model for bag of words\n",
    "mnb_bow_predict=mnb.predict(cv_test_reviews)\n",
    "print(mnb_bow_predict)\n",
    "#Predicting the model for tfidf features\n",
    "mnb_tfidf_predict=mnb.predict(tv_test_reviews)\n",
    "print(mnb_tfidf_predict)"
   ]
  },
  {
   "cell_type": "markdown",
   "id": "9952c1bd",
   "metadata": {},
   "source": [
    "# ACCURACY USING MULTONOMIAL NAIVE BAYES"
   ]
  },
  {
   "cell_type": "code",
   "execution_count": 33,
   "id": "33d3293d",
   "metadata": {},
   "outputs": [
    {
     "name": "stdout",
     "output_type": "stream",
     "text": [
      "Accuracy Score for Bag of Words predictions: 0.945769535777466\n",
      "Accuracy Score for TF-IDF predictions: 0.9367412920148844\n"
     ]
    }
   ],
   "source": [
    "# Accuracy score for Bag of Words predictions\n",
    "mnb_bow_score = accuracy_score(test_sentiments, mnb_bow_predict)\n",
    "print(\"Accuracy Score for Bag of Words predictions:\", mnb_bow_score)\n",
    "\n",
    "# Accuracy score for TF-IDF predictions\n",
    "mnb_tfidf_score = accuracy_score(test_sentiments, mnb_tfidf_predict)\n",
    "print(\"Accuracy Score for TF-IDF predictions:\", mnb_tfidf_score)\n"
   ]
  },
  {
   "cell_type": "code",
   "execution_count": null,
   "id": "58c42d7d",
   "metadata": {},
   "outputs": [],
   "source": []
  }
 ],
 "metadata": {
  "kernelspec": {
   "display_name": "Python 3 (ipykernel)",
   "language": "python",
   "name": "python3"
  },
  "language_info": {
   "codemirror_mode": {
    "name": "ipython",
    "version": 3
   },
   "file_extension": ".py",
   "mimetype": "text/x-python",
   "name": "python",
   "nbconvert_exporter": "python",
   "pygments_lexer": "ipython3",
   "version": "3.11.4"
  }
 },
 "nbformat": 4,
 "nbformat_minor": 5
}
